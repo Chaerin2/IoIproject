{
 "cells": [
  {
   "cell_type": "code",
   "execution_count": 9,
   "id": "633575be",
   "metadata": {},
   "outputs": [],
   "source": [
    "import pandas as pd\n",
    "m_df = pd.read_csv('musinsa_data.csv')\n",
    "musinsa_df = m_df.drop(['c_number','c_name','link','size'], axis=1)"
   ]
  },
  {
   "cell_type": "code",
   "execution_count": 10,
   "id": "cc31d890",
   "metadata": {},
   "outputs": [],
   "source": [
    "X = musinsa_df[['temp', 'gender', 'height(cm)', 'weight(kg)', 'fit']]\n",
    "y = musinsa_df['c_result']\n",
    "\n",
    "from sklearn.model_selection import train_test_split\n",
    "X_train, X_test, y_train, y_test = train_test_split(X, y, test_size=0.2, random_state=42, shuffle=True )"
   ]
  },
  {
   "cell_type": "code",
   "execution_count": 11,
   "id": "b4e7d37d",
   "metadata": {},
   "outputs": [],
   "source": [
    "from sklearn.preprocessing import StandardScaler, OneHotEncoder\n",
    "from sklearn.compose import make_column_transformer\n",
    "\n",
    "stsc = StandardScaler()\n",
    "ohe = OneHotEncoder()\n",
    "mct = make_column_transformer(\n",
    "    (ohe, ['gender','fit']),\n",
    "    (stsc, ['height(cm)','weight(kg)','temp'])\n",
    ")\n",
    "X_train_transformed = mct.fit_transform(X_train)\n",
    "X_test_transformed = mct.transform(X_test)"
   ]
  },
  {
   "cell_type": "code",
   "execution_count": 12,
   "id": "369f8f7d",
   "metadata": {},
   "outputs": [],
   "source": [
    "from imblearn.over_sampling import BorderlineSMOTE, SMOTE\n",
    "n_neighbors = 1  # 또는 더 작은 값으로 설정해도 됩니다\n",
    "bsmt = SMOTE(sampling_strategy='auto', k_neighbors=n_neighbors)\n",
    "X_train_transformed_resampled, y_train_resampled = bsmt.fit_resample(X_train_transformed, y_train)"
   ]
  },
  {
   "cell_type": "code",
   "execution_count": 13,
   "id": "321bd764",
   "metadata": {},
   "outputs": [],
   "source": [
    "from sklearn.model_selection import GridSearchCV\n",
    "from sklearn.ensemble import RandomForestClassifier\n",
    "\n",
    "params ={\n",
    "    'n_estimators':[100],\n",
    "    'max_depth':[6,8,10,12],\n",
    "}\n",
    "# rf = RandomForestClassifier(random_state=0, n_jobs=-1, bootstrap=False, )\n",
    "# grid_cv = GridSearchCV(rf, param_grid=params, cv=2, n_jobs=-1)\n",
    "# grid_cv.fit(X_train_transformed_resampled, y_train_resampled)"
   ]
  },
  {
   "cell_type": "code",
   "execution_count": 21,
   "id": "1e82a48a",
   "metadata": {},
   "outputs": [],
   "source": [
    "rf = RandomForestClassifier(random_state=0, n_jobs=-1, bootstrap=False, n_estimators=100,max_depth=12)\n",
    "rf_model = rf.fit(X_train_transformed_resampled, y_train_resampled)"
   ]
  },
  {
   "cell_type": "code",
   "execution_count": 22,
   "id": "9063ed9d",
   "metadata": {},
   "outputs": [],
   "source": [
    "pred = rf_model.predict(X_test_transformed)"
   ]
  },
  {
   "cell_type": "code",
   "execution_count": 23,
   "id": "0fe6d5f7",
   "metadata": {
    "scrolled": true
   },
   "outputs": [
    {
     "name": "stdout",
     "output_type": "stream",
     "text": [
      "예측 정확도: 0.3054\n"
     ]
    }
   ],
   "source": [
    "from sklearn.metrics import accuracy_score\n",
    "print('예측 정확도: {:.4f}'.format(accuracy_score(y_test,pred)))"
   ]
  },
  {
   "cell_type": "code",
   "execution_count": 24,
   "id": "f5309fa1",
   "metadata": {},
   "outputs": [],
   "source": [
    "import pickle\n",
    "pickle.dump(rf_model, open('rf.pkl', 'wb'))"
   ]
  }
 ],
 "metadata": {
  "kernelspec": {
   "display_name": "Python 3 (ipykernel)",
   "language": "python",
   "name": "python3"
  },
  "language_info": {
   "codemirror_mode": {
    "name": "ipython",
    "version": 3
   },
   "file_extension": ".py",
   "mimetype": "text/x-python",
   "name": "python",
   "nbconvert_exporter": "python",
   "pygments_lexer": "ipython3",
   "version": "3.10.9"
  }
 },
 "nbformat": 4,
 "nbformat_minor": 5
}
